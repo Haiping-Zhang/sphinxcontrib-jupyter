{
 "cells": [
  {
   "cell_type": "markdown",
   "metadata": {},
   "source": [
    "``` pythonthis = 'is a code block'\n",
    "x = 1\n",
    "no = 'really!'\n",
    "p = argwhere(x == 2)```"
   ]
  },
  {
   "cell_type": "markdown",
   "metadata": {},
   "source": [
    "``` pythonfrom pylab import linspace\n",
    "t = linspace(0, 1)\n",
    "x = t**2```"
   ]
  },
  {
   "cell_type": "code",
   "execution_count": null,
   "metadata": {},
   "outputs": [],
   "source": [
    "from pylab import *\n",
    "x = logspace(0, 1)\n",
    "y = x**2\n",
    "figure()\n",
    "plot(x, y)\n",
    "show()"
   ]
  },
  {
   "cell_type": "markdown",
   "metadata": {},
   "source": [
    "``` juliausing QuantEcon```"
   ]
  },
  {
   "cell_type": "markdown",
   "metadata": {},
   "source": [
    "``` pythonimport pandas as pd```"
   ]
  }
 ],
 "metadata": {
  "kernelspec": {
   "display_name": "Python 3",
   "language": "python",
   "name": "python3"
  }
 },
 "nbformat": 4,
 "nbformat_minor": 2
}
